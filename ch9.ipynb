{
 "cells": [
  {
   "cell_type": "code",
   "execution_count": 1,
   "id": "d8fa8488",
   "metadata": {},
   "outputs": [],
   "source": [
    "# 1) epoch : 1 forward and backward pass of all training examples\n",
    "# 2) batch size = number of training samples in one forward and backward\n",
    "# pass\n",
    "# 3) number of iterations = number of passes, each using [batch_size]\n",
    "#  number of samples\n",
    "# e.g. 100 samples, batch size=20 --> 100/20 = 5 iterations for 1 epoch."
   ]
  },
  {
   "cell_type": "code",
   "execution_count": 2,
   "id": "3d4722c7",
   "metadata": {},
   "outputs": [],
   "source": [
    "import torch"
   ]
  },
  {
   "cell_type": "code",
   "execution_count": 3,
   "id": "67e1f77d",
   "metadata": {},
   "outputs": [],
   "source": [
    "import torchvision"
   ]
  },
  {
   "cell_type": "code",
   "execution_count": 4,
   "id": "24e3f142",
   "metadata": {},
   "outputs": [],
   "source": [
    "from torch.utils.data import Dataset, DataLoader"
   ]
  },
  {
   "cell_type": "code",
   "execution_count": 5,
   "id": "e85891cc",
   "metadata": {},
   "outputs": [],
   "source": [
    "import numpy as np"
   ]
  },
  {
   "cell_type": "code",
   "execution_count": 6,
   "id": "98baf4ab",
   "metadata": {},
   "outputs": [],
   "source": [
    "import math"
   ]
  },
  {
   "cell_type": "code",
   "execution_count": 7,
   "id": "3e0453bf",
   "metadata": {},
   "outputs": [],
   "source": [
    "class WineDataset(Dataset):\n",
    "    def __init__(self):\n",
    "        # data loading\n",
    "        xy = np.loadtxt('wine.csv', \n",
    "                        delimiter=\",\", \n",
    "                        dtype=np.float32, \n",
    "                        skiprows=1)\n",
    "        self.x = torch.from_numpy(xy[:,1:])\n",
    "        self.y = torch.from_numpy(xy[:,[0]])\n",
    "        self.n_samples = xy.shape[0]\n",
    "\n",
    "    def __getitem__(self, index):\n",
    "        return self.x[index], self.y[index]\n",
    "\n",
    "    def __len__(self):\n",
    "        return self.n_samples\n",
    "\n"
   ]
  },
  {
   "cell_type": "code",
   "execution_count": 8,
   "id": "81dd94c7",
   "metadata": {},
   "outputs": [],
   "source": [
    "dataset = WineDataset()"
   ]
  },
  {
   "cell_type": "code",
   "execution_count": 9,
   "id": "4c1d64db",
   "metadata": {},
   "outputs": [],
   "source": [
    "first_data = dataset[0]"
   ]
  },
  {
   "cell_type": "code",
   "execution_count": 10,
   "id": "708c95d8",
   "metadata": {},
   "outputs": [
    {
     "name": "stdout",
     "output_type": "stream",
     "text": [
      "features: tensor([1.4230e+01, 1.7100e+00, 2.4300e+00, 1.5600e+01, 1.2700e+02, 2.8000e+00,\n",
      "        3.0600e+00, 2.8000e-01, 2.2900e+00, 5.6400e+00, 1.0400e+00, 3.9200e+00,\n",
      "        1.0650e+03])\n",
      "labels: tensor([1.])\n"
     ]
    }
   ],
   "source": [
    "features, labels = first_data\n",
    "print(f\"features: {features}\")\n",
    "print(f\"labels: {labels}\")"
   ]
  },
  {
   "cell_type": "code",
   "execution_count": 11,
   "id": "ad3bbab1",
   "metadata": {},
   "outputs": [],
   "source": [
    "dataloader = DataLoader(dataset= dataset,\n",
    "                        batch_size= 4,\n",
    "                        shuffle= True,\n",
    "                        num_workers= 2)"
   ]
  },
  {
   "cell_type": "code",
   "execution_count": 13,
   "id": "a2297664",
   "metadata": {},
   "outputs": [
    {
     "name": "stdout",
     "output_type": "stream",
     "text": [
      "features_shape: torch.Size([4, 13])\n",
      "features: tensor([[1.3050e+01, 3.8600e+00, 2.3200e+00, 2.2500e+01, 8.5000e+01, 1.6500e+00,\n",
      "         1.5900e+00, 6.1000e-01, 1.6200e+00, 4.8000e+00, 8.4000e-01, 2.0100e+00,\n",
      "         5.1500e+02],\n",
      "        [1.3300e+01, 1.7200e+00, 2.1400e+00, 1.7000e+01, 9.4000e+01, 2.4000e+00,\n",
      "         2.1900e+00, 2.7000e-01, 1.3500e+00, 3.9500e+00, 1.0200e+00, 2.7700e+00,\n",
      "         1.2850e+03],\n",
      "        [1.2860e+01, 1.3500e+00, 2.3200e+00, 1.8000e+01, 1.2200e+02, 1.5100e+00,\n",
      "         1.2500e+00, 2.1000e-01, 9.4000e-01, 4.1000e+00, 7.6000e-01, 1.2900e+00,\n",
      "         6.3000e+02],\n",
      "        [1.4220e+01, 3.9900e+00, 2.5100e+00, 1.3200e+01, 1.2800e+02, 3.0000e+00,\n",
      "         3.0400e+00, 2.0000e-01, 2.0800e+00, 5.1000e+00, 8.9000e-01, 3.5300e+00,\n",
      "         7.6000e+02]])\n",
      "labels_shape: torch.Size([4, 1])\n",
      "labels: tensor([[2.],\n",
      "        [1.],\n",
      "        [3.],\n",
      "        [1.]])\n"
     ]
    }
   ],
   "source": [
    "dataiter = iter(dataloader)\n",
    "data = dataiter.next()\n",
    "features, labels = data\n",
    "print(f\"features_shape: {features.shape}\")\n",
    "print(f\"features: {features}\")\n",
    "print(f\"labels_shape: {labels.shape}\")\n",
    "print(f\"labels: {labels}\")"
   ]
  },
  {
   "cell_type": "code",
   "execution_count": 15,
   "id": "7be69d49",
   "metadata": {},
   "outputs": [
    {
     "name": "stdout",
     "output_type": "stream",
     "text": [
      "178 45\n"
     ]
    }
   ],
   "source": [
    "# training loop\n",
    "num_epochs = 2\n",
    "total_samples = len(dataset)\n",
    "batch_size = 4\n",
    "n_iterations = math.ceil(total_samples/batch_size)\n",
    "print(total_samples, n_iterations)"
   ]
  },
  {
   "cell_type": "code",
   "execution_count": 17,
   "id": "fe42ffd3",
   "metadata": {},
   "outputs": [
    {
     "name": "stdout",
     "output_type": "stream",
     "text": [
      "epoch = 1/2, step 5/45,inputs torch.Size([4, 13])\n",
      "epoch = 1/2, step 10/45,inputs torch.Size([4, 13])\n",
      "epoch = 1/2, step 15/45,inputs torch.Size([4, 13])\n",
      "epoch = 1/2, step 20/45,inputs torch.Size([4, 13])\n",
      "epoch = 1/2, step 25/45,inputs torch.Size([4, 13])\n",
      "epoch = 1/2, step 30/45,inputs torch.Size([4, 13])\n",
      "epoch = 1/2, step 35/45,inputs torch.Size([4, 13])\n",
      "epoch = 1/2, step 40/45,inputs torch.Size([4, 13])\n",
      "epoch = 1/2, step 45/45,inputs torch.Size([2, 13])\n",
      "epoch = 2/2, step 5/45,inputs torch.Size([4, 13])\n",
      "epoch = 2/2, step 10/45,inputs torch.Size([4, 13])\n",
      "epoch = 2/2, step 15/45,inputs torch.Size([4, 13])\n",
      "epoch = 2/2, step 20/45,inputs torch.Size([4, 13])\n",
      "epoch = 2/2, step 25/45,inputs torch.Size([4, 13])\n",
      "epoch = 2/2, step 30/45,inputs torch.Size([4, 13])\n",
      "epoch = 2/2, step 35/45,inputs torch.Size([4, 13])\n",
      "epoch = 2/2, step 40/45,inputs torch.Size([4, 13])\n",
      "epoch = 2/2, step 45/45,inputs torch.Size([2, 13])\n"
     ]
    }
   ],
   "source": [
    "for epoch in range(num_epochs):\n",
    "    for i, (inputs, labels) in enumerate(dataloader):\n",
    "        # forward and backward pass\n",
    "        # update weights\n",
    "        if (i + 1) % 5 == 0:\n",
    "            print(f\"epoch = {epoch+1}/{num_epochs}, step {i+1}/{n_iterations},inputs {inputs.shape}\")\n",
    "    "
   ]
  },
  {
   "cell_type": "code",
   "execution_count": 18,
   "id": "26d963ad",
   "metadata": {},
   "outputs": [
    {
     "ename": "TypeError",
     "evalue": "__init__() missing 1 required positional argument: 'root'",
     "output_type": "error",
     "traceback": [
      "\u001b[0;31m---------------------------------------------------------------------------\u001b[0m",
      "\u001b[0;31mTypeError\u001b[0m                                 Traceback (most recent call last)",
      "\u001b[0;32m/var/folders/wy/w35vmvk945sd_z2b9nwf1qj00000gs/T/ipykernel_37298/4006472314.py\u001b[0m in \u001b[0;36m<module>\u001b[0;34m\u001b[0m\n\u001b[0;32m----> 1\u001b[0;31m \u001b[0mtorchvision\u001b[0m\u001b[0;34m.\u001b[0m\u001b[0mdatasets\u001b[0m\u001b[0;34m.\u001b[0m\u001b[0mMNIST\u001b[0m\u001b[0;34m(\u001b[0m\u001b[0;34m)\u001b[0m\u001b[0;34m\u001b[0m\u001b[0;34m\u001b[0m\u001b[0m\n\u001b[0m\u001b[1;32m      2\u001b[0m \u001b[0;31m# fashion-mnist\u001b[0m\u001b[0;34m\u001b[0m\u001b[0;34m\u001b[0m\u001b[0;34m\u001b[0m\u001b[0m\n",
      "\u001b[0;31mTypeError\u001b[0m: __init__() missing 1 required positional argument: 'root'"
     ]
    }
   ],
   "source": [
    "torchvision.datasets.MNIST()\n",
    "# fashion-mnist"
   ]
  },
  {
   "cell_type": "code",
   "execution_count": null,
   "id": "dd55991a",
   "metadata": {},
   "outputs": [],
   "source": []
  }
 ],
 "metadata": {
  "kernelspec": {
   "display_name": "Python [conda env:pytorch] *",
   "language": "python",
   "name": "conda-env-pytorch-py"
  },
  "language_info": {
   "codemirror_mode": {
    "name": "ipython",
    "version": 3
   },
   "file_extension": ".py",
   "mimetype": "text/x-python",
   "name": "python",
   "nbconvert_exporter": "python",
   "pygments_lexer": "ipython3",
   "version": "3.7.13"
  }
 },
 "nbformat": 4,
 "nbformat_minor": 5
}
