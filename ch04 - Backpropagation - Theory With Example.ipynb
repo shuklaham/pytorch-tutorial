{
 "cells": [
  {
   "cell_type": "markdown",
   "id": "ee345f5b",
   "metadata": {},
   "source": [
    "1. Forward pass: Compute loss\n",
    "2. Compute local gradients\n",
    "3. Backward pass: Compute dLoss/dWeights using the chain rule"
   ]
  },
  {
   "cell_type": "code",
   "execution_count": 2,
   "id": "286bf900",
   "metadata": {},
   "outputs": [],
   "source": [
    "import torch"
   ]
  },
  {
   "cell_type": "code",
   "execution_count": 3,
   "id": "c257a3f5",
   "metadata": {},
   "outputs": [],
   "source": [
    "x = torch.tensor(1.0)\n",
    "y = torch.tensor(2.0)\n",
    "\n",
    "w = torch.tensor(1.0, requires_grad= True)"
   ]
  },
  {
   "cell_type": "code",
   "execution_count": 4,
   "id": "cf8a6b2f",
   "metadata": {},
   "outputs": [
    {
     "name": "stdout",
     "output_type": "stream",
     "text": [
      "tensor(1., grad_fn=<PowBackward0>)\n",
      "tensor(-2.)\n"
     ]
    }
   ],
   "source": [
    "# forward pass and computer loss\n",
    "y_hat = w * x\n",
    "loss = (y_hat - y)**2\n",
    "\n",
    "print(loss)\n",
    "\n",
    "# backward pass : pytorch will calculate the local gradients and also do backward pass for us.\n",
    "loss.backward()\n",
    "print(w.grad) # dLoss/dWeights"
   ]
  },
  {
   "cell_type": "code",
   "execution_count": 5,
   "id": "4408ccb3",
   "metadata": {},
   "outputs": [],
   "source": [
    "## update weights\n",
    "## next forward and backward pass"
   ]
  },
  {
   "cell_type": "code",
   "execution_count": null,
   "id": "f2603c2e",
   "metadata": {},
   "outputs": [],
   "source": []
  }
 ],
 "metadata": {
  "kernelspec": {
   "display_name": "Python [conda env:pytorch] *",
   "language": "python",
   "name": "conda-env-pytorch-py"
  },
  "language_info": {
   "codemirror_mode": {
    "name": "ipython",
    "version": 3
   },
   "file_extension": ".py",
   "mimetype": "text/x-python",
   "name": "python",
   "nbconvert_exporter": "python",
   "pygments_lexer": "ipython3",
   "version": "3.7.13"
  }
 },
 "nbformat": 4,
 "nbformat_minor": 5
}
