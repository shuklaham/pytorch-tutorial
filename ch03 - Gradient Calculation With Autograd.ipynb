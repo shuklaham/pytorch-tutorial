{
 "cells": [
  {
   "cell_type": "code",
   "execution_count": 5,
   "id": "7cad2c9e",
   "metadata": {},
   "outputs": [],
   "source": [
    "import torch"
   ]
  },
  {
   "cell_type": "code",
   "execution_count": 6,
   "id": "3418536a",
   "metadata": {},
   "outputs": [
    {
     "name": "stdout",
     "output_type": "stream",
     "text": [
      "tensor([-0.6560, -0.0331,  0.4846], requires_grad=True)\n"
     ]
    }
   ],
   "source": [
    "x = torch.randn(3, requires_grad= True)\n",
    "print(x)"
   ]
  },
  {
   "cell_type": "code",
   "execution_count": 7,
   "id": "b379a0f6",
   "metadata": {},
   "outputs": [],
   "source": [
    "# Lets say we need to calculate gradients of some function wrt x."
   ]
  },
  {
   "cell_type": "code",
   "execution_count": 8,
   "id": "89007399",
   "metadata": {},
   "outputs": [
    {
     "name": "stdout",
     "output_type": "stream",
     "text": [
      "tensor([1.3440, 1.9669, 2.4846], grad_fn=<AddBackward0>)\n"
     ]
    }
   ],
   "source": [
    "y = x + 2\n",
    "print(y)"
   ]
  },
  {
   "cell_type": "code",
   "execution_count": 9,
   "id": "9b355902",
   "metadata": {},
   "outputs": [
    {
     "name": "stdout",
     "output_type": "stream",
     "text": [
      "tensor([ 3.6124,  7.7377, 12.3464], grad_fn=<MulBackward0>)\n"
     ]
    }
   ],
   "source": [
    "z = y * y * 2\n",
    "print(z)"
   ]
  },
  {
   "cell_type": "code",
   "execution_count": 10,
   "id": "ce703d46",
   "metadata": {},
   "outputs": [],
   "source": [
    "z = z.mean()"
   ]
  },
  {
   "cell_type": "code",
   "execution_count": 11,
   "id": "337b5708",
   "metadata": {},
   "outputs": [
    {
     "name": "stdout",
     "output_type": "stream",
     "text": [
      "tensor(7.8988, grad_fn=<MeanBackward0>)\n"
     ]
    }
   ],
   "source": [
    "print(z)"
   ]
  },
  {
   "cell_type": "code",
   "execution_count": 12,
   "id": "a8cc4d89",
   "metadata": {},
   "outputs": [],
   "source": [
    "# when we want to calculate the gradients, we only need to do following:\n",
    "z.backward() # dz/dx"
   ]
  },
  {
   "cell_type": "code",
   "execution_count": 13,
   "id": "6b11e469",
   "metadata": {},
   "outputs": [
    {
     "name": "stdout",
     "output_type": "stream",
     "text": [
      "tensor([1.7919, 2.6226, 3.3128])\n"
     ]
    }
   ],
   "source": [
    "# Then in x we will have following:\n",
    "print(x.grad)"
   ]
  },
  {
   "cell_type": "code",
   "execution_count": 14,
   "id": "c2a6ce1c",
   "metadata": {},
   "outputs": [],
   "source": [
    "# if we do not add requires_grad=True, the we wont be able to call \n",
    "# backward function."
   ]
  },
  {
   "cell_type": "code",
   "execution_count": 15,
   "id": "23ba0aed",
   "metadata": {},
   "outputs": [
    {
     "name": "stdout",
     "output_type": "stream",
     "text": [
      "tensor([ 5.2056, 18.4464,  3.1373], grad_fn=<MulBackward0>)\n"
     ]
    }
   ],
   "source": [
    "# What if z was vector\n",
    "x = torch.randn(3, requires_grad= True)\n",
    "y = x + 2\n",
    "z = y * y * 2\n",
    "print(z)"
   ]
  },
  {
   "cell_type": "code",
   "execution_count": 16,
   "id": "54dbaeac",
   "metadata": {},
   "outputs": [],
   "source": [
    "# z.backward() will throw error.\n",
    "# we will have to create vector and then pass it to backward function.\n",
    "# What is backward doing : It is creating a Jacobian product.\n"
   ]
  },
  {
   "cell_type": "code",
   "execution_count": 17,
   "id": "d4a00a9d",
   "metadata": {},
   "outputs": [
    {
     "name": "stdout",
     "output_type": "stream",
     "text": [
      "tensor([6.4533e-01, 1.2148e+01, 5.0098e-03])\n"
     ]
    }
   ],
   "source": [
    "v = torch.tensor([0.1, 1.0, 0.001], dtype=torch.float32)\n",
    "z.backward(v) # dz/dx\n",
    "print(x.grad)"
   ]
  },
  {
   "cell_type": "code",
   "execution_count": 18,
   "id": "c1bfb976",
   "metadata": {},
   "outputs": [],
   "source": [
    "# How to stop Pytorch from tracking history and calculate grad_fn \n",
    "# attribute ?"
   ]
  },
  {
   "cell_type": "code",
   "execution_count": 19,
   "id": "73c614ce",
   "metadata": {},
   "outputs": [
    {
     "name": "stdout",
     "output_type": "stream",
     "text": [
      "tensor([ 0.9093,  0.0928, -1.7218], requires_grad=True)\n",
      "tensor([ 0.9093,  0.0928, -1.7218])\n"
     ]
    }
   ],
   "source": [
    "x = torch.randn(3, requires_grad= True)\n",
    "print(x)\n",
    "# 1. Set requires_grad = False\n",
    "# 2. x.detach\n",
    "# 3. with torch.no_grad():\n",
    "x.requires_grad_(False)\n",
    "print(x)\n",
    "\n"
   ]
  },
  {
   "cell_type": "code",
   "execution_count": 20,
   "id": "279581a6",
   "metadata": {},
   "outputs": [
    {
     "name": "stdout",
     "output_type": "stream",
     "text": [
      "tensor([0.2229, 0.0358, 0.4064], requires_grad=True)\n",
      "tensor([0.2229, 0.0358, 0.4064])\n"
     ]
    }
   ],
   "source": [
    "x = torch.randn(3, requires_grad= True)\n",
    "print(x)\n",
    "y = x.detach()\n",
    "print(y)"
   ]
  },
  {
   "cell_type": "code",
   "execution_count": 21,
   "id": "c5aa877b",
   "metadata": {},
   "outputs": [
    {
     "name": "stdout",
     "output_type": "stream",
     "text": [
      "tensor([0.2229, 0.0358, 0.4064], requires_grad=True)\n",
      "tensor([2.2229, 2.0358, 2.4064])\n"
     ]
    }
   ],
   "source": [
    "print(x)\n",
    "with torch.no_grad():\n",
    "    y = x + 2\n",
    "    print(y)"
   ]
  },
  {
   "cell_type": "code",
   "execution_count": null,
   "id": "4a5a3eba",
   "metadata": {},
   "outputs": [],
   "source": []
  },
  {
   "cell_type": "code",
   "execution_count": 22,
   "id": "1d3555c9",
   "metadata": {},
   "outputs": [
    {
     "name": "stdout",
     "output_type": "stream",
     "text": [
      "tensor([1., 1., 1., 1.], requires_grad=True)\n",
      "tensor([3., 3., 3., 3.])\n",
      "tensor([6., 6., 6., 6.])\n",
      "tensor([9., 9., 9., 9.])\n"
     ]
    }
   ],
   "source": [
    "weights = torch.ones(4, requires_grad=True)\n",
    "print(weights)\n",
    "for epoch in range(3):\n",
    "    model_output = (3 * weights).sum()\n",
    "    model_output.backward()\n",
    "    print(weights.grad)"
   ]
  },
  {
   "cell_type": "code",
   "execution_count": 23,
   "id": "ca8a77d5",
   "metadata": {},
   "outputs": [
    {
     "name": "stdout",
     "output_type": "stream",
     "text": [
      "tensor([1., 1., 1., 1.], requires_grad=True)\n",
      "tensor([3., 3., 3., 3.])\n",
      "tensor([0., 0., 0., 0.])\n",
      "tensor([3., 3., 3., 3.])\n",
      "tensor([0., 0., 0., 0.])\n",
      "tensor([3., 3., 3., 3.])\n",
      "tensor([0., 0., 0., 0.])\n"
     ]
    }
   ],
   "source": [
    "#  Since gradients are getting accumulated, we need to reset them\n",
    "weights = torch.ones(4, requires_grad=True)\n",
    "print(weights)\n",
    "for epoch in range(3):\n",
    "    model_output = (3 * weights).sum()\n",
    "    model_output.backward()\n",
    "    print(weights.grad)\n",
    "    weights.grad.zero_()\n",
    "    print(weights.grad)"
   ]
  },
  {
   "cell_type": "code",
   "execution_count": 24,
   "id": "ea8ee444",
   "metadata": {},
   "outputs": [],
   "source": [
    "##  Using optimizers, example\n",
    "# weights = torch.ones(4, requires_grad=True)\n",
    "# print(weights)\n",
    "# optimizer = torch.optim.SGD(weights, lr=0.01)\n",
    "# optimizer.step()\n",
    "# optimizer.zero_grad()"
   ]
  },
  {
   "cell_type": "code",
   "execution_count": null,
   "id": "2a5cda88",
   "metadata": {},
   "outputs": [],
   "source": []
  }
 ],
 "metadata": {
  "kernelspec": {
   "display_name": "Python 3 (ipykernel)",
   "language": "python",
   "name": "python3"
  },
  "language_info": {
   "codemirror_mode": {
    "name": "ipython",
    "version": 3
   },
   "file_extension": ".py",
   "mimetype": "text/x-python",
   "name": "python",
   "nbconvert_exporter": "python",
   "pygments_lexer": "ipython3",
   "version": "3.7.13"
  }
 },
 "nbformat": 4,
 "nbformat_minor": 5
}
