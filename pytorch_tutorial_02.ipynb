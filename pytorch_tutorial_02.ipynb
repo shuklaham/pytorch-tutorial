{
 "cells": [
  {
   "cell_type": "code",
   "execution_count": 3,
   "id": "12865817",
   "metadata": {},
   "outputs": [
    {
     "name": "stdout",
     "output_type": "stream",
     "text": [
      "tensor([0.])\n",
      "tensor([0.2112, 0.3457, 0.0561])\n",
      "tensor([[ 0.0000e+00, -4.6566e-10,  1.2351e-36],\n",
      "        [-2.8657e-42,  9.8091e-45,  1.3494e+00]])\n",
      "tensor([[0., 0.],\n",
      "        [0., 0.]])\n",
      "tensor([[1., 1.],\n",
      "        [1., 1.]])\n",
      "tensor([[1., 1.],\n",
      "        [1., 1.]], dtype=torch.float16)\n",
      "creating a tensor using tensor= tensor([2.5000, 0.1000])\n",
      "creating a tensor using Tensor= tensor([2.5000, 0.1000])\n",
      "creating a empty tensor using tensor= tensor([])\n",
      "creating a empty tensor using Tensor= tensor([])\n",
      "creating a tensor using Tensor= tensor([[ 0.0000e+00, -4.6566e-10,  1.4801e-36],\n",
      "        [-2.0005e+00,  5.6052e-45, -4.6566e-10]])\n",
      "creating a tensor using empty= tensor([[0.0000e+00, 0.0000e+00, 2.5984e-36],\n",
      "        [1.4013e-45, 9.1477e-41, 1.8750e+00]])\n",
      "tensor([[0.8101, 0.6727],\n",
      "        [0.8462, 0.8817]])\n",
      "tensor([[0.5531, 0.8195],\n",
      "        [0.2186, 0.3460]])\n",
      "tensor([[6, 6],\n",
      "        [6, 6]])\n",
      "tensor([[-2, -2],\n",
      "        [-2, -2]])\n",
      "tensor([[8, 8],\n",
      "        [8, 8]])\n",
      "tensor([[0.5000, 0.5000],\n",
      "        [0.5000, 0.5000]])\n"
     ]
    }
   ],
   "source": [
    "import torch\n",
    "\n",
    "x = torch.empty(1) # array of size 1. Essentially a 1D vector\n",
    "print(x)\n",
    "\n",
    "x = torch.empty(3) # 1D vector with 3 elements\n",
    "print(x)\n",
    "\n",
    "x = torch.empty(2, 3) # 2D vector with 2 rows and 3 columns\n",
    "print(x)\n",
    "\n",
    "# random values\n",
    "# rand Returns a tensor filled with random numbers from a uniform distribution on the interval [0, 1)\n",
    "x = torch.rand(2, 2)\n",
    "\n",
    "# So, in essence torch.FloatTensor() and torch.empty() does the same job of returning a tensor\n",
    "# filled with garbage values of dtype torch.float32\n",
    "\n",
    "# just like in numpy\n",
    "x = torch.zeros(2,2)\n",
    "print(x)\n",
    "\n",
    "x = torch.ones(2,2)\n",
    "print(x)\n",
    "\n",
    "# give data type\n",
    "x = torch.ones(2,2, dtype=torch.float16)\n",
    "print(x)\n",
    "\n",
    "# creating a tensor\n",
    "x = torch.tensor([2.5, 0.1])\n",
    "print(\"creating a tensor using tensor=\",x)\n",
    "\n",
    "# creating a tensor\n",
    "x = torch.Tensor([2.5, 0.1])\n",
    "print(\"creating a tensor using Tensor=\",x)\n",
    "\n",
    "# creating a empty tensor\n",
    "x = torch.tensor(())\n",
    "print(\"creating a empty tensor using tensor=\",x)\n",
    "\n",
    "# creating a empty tensor\n",
    "x = torch.Tensor()\n",
    "print(\"creating a empty tensor using Tensor=\",x)\n",
    "\n",
    "x = torch.Tensor(2,3)\n",
    "print(\"creating a tensor using Tensor=\",x)\n",
    "\n",
    "x = torch.empty(2,3)\n",
    "print(\"creating a tensor using empty=\",x)\n",
    "\n",
    "\n",
    "# https://stackoverflow.com/questions/51911749/what-is-the-difference-between-torch-tensor-and-torch-tensor\n",
    "# https://stackoverflow.com/questions/51129043/whats-the-difference-between-torch-tensor-vs-torch-empty-in-pytorch\n",
    "\n",
    "# torch.Tensor() is just an alias to torch.FloatTensor() which is the\n",
    "# default type of tensor, when no dtype is specified during tensor construction.\n",
    "\n",
    "# From the torch for numpy users notes, it seems that torch.Tensor() is a drop-in\n",
    "# replacement of numpy.empty()\n",
    "\n",
    "# So, in essence torch.FloatTensor() and torch.empty() does the same job of returning a\n",
    "# tensor filled with garbage values of dtype torch.float32\n",
    "\n",
    "# torch.empty() returns a tensor filled with uninitialized data. With arguments you can\n",
    "# specify the shape of the tensor, the output tensor, the data type...\n",
    "\n",
    "# This means you can create a tensor of floats, int... If no data type is specified then\n",
    "# the chosen one is your default torch.Tensor type (which is torch.FloatTensor by default and\n",
    "# you can change it using torch.set_default_tensor_type())\n",
    "\n",
    "# torch.Tensor() is simply a special case of torch.empty() where the data type is torch.FloatTensor.\n",
    "\n",
    "\n",
    "x = torch.rand(2, 2)\n",
    "y = torch.rand(2, 2)\n",
    "print(x)\n",
    "print(y)\n",
    "\n",
    "# element wise addition\n",
    "x = torch.tensor([\n",
    "    [2, 2],\n",
    "    [2, 2]\n",
    "])\n",
    "\n",
    "y = torch.tensor([\n",
    "    [4, 4],\n",
    "    [4, 4]\n",
    "])\n",
    "z = x + y\n",
    "z = torch.add(x, y)\n",
    "print(z)\n",
    "\n",
    "# element wise subtraction\n",
    "z = x - y\n",
    "z = torch.sub(x, y)\n",
    "print(z)\n",
    "\n",
    "# element wise multiplication\n",
    "z = x * y\n",
    "z = torch.mul(x, y)\n",
    "print(z)\n",
    "\n",
    "# element wise division\n",
    "z = x / y\n",
    "z = torch.div(x, y)\n",
    "print(z)"
   ]
  },
  {
   "cell_type": "code",
   "execution_count": 4,
   "id": "fb991cc4",
   "metadata": {},
   "outputs": [
    {
     "name": "stdout",
     "output_type": "stream",
     "text": [
      "tensor([[0.6204, 0.6500, 0.9651],\n",
      "        [0.8387, 0.7962, 0.9675],\n",
      "        [0.6082, 0.3435, 0.3799],\n",
      "        [0.8086, 0.6633, 0.8338],\n",
      "        [0.9937, 0.0318, 0.9508]])\n"
     ]
    }
   ],
   "source": [
    "# slicing\n",
    "x = torch.rand(5, 3)\n",
    "print(x)"
   ]
  },
  {
   "cell_type": "code",
   "execution_count": 6,
   "id": "ad6c6491",
   "metadata": {},
   "outputs": [
    {
     "name": "stdout",
     "output_type": "stream",
     "text": [
      "tensor([0.6204, 0.8387, 0.6082, 0.8086, 0.9937])\n"
     ]
    }
   ],
   "source": [
    "print(x[:,0])"
   ]
  },
  {
   "cell_type": "code",
   "execution_count": 7,
   "id": "c43071c7",
   "metadata": {},
   "outputs": [
    {
     "name": "stdout",
     "output_type": "stream",
     "text": [
      "tensor([0.8387, 0.7962, 0.9675])\n"
     ]
    }
   ],
   "source": [
    "print(x[1,:])"
   ]
  },
  {
   "cell_type": "code",
   "execution_count": 8,
   "id": "429e3327",
   "metadata": {},
   "outputs": [
    {
     "name": "stdout",
     "output_type": "stream",
     "text": [
      "tensor(0.7962)\n"
     ]
    }
   ],
   "source": [
    "print(x[1,1])"
   ]
  },
  {
   "cell_type": "code",
   "execution_count": 10,
   "id": "613d9768",
   "metadata": {},
   "outputs": [
    {
     "name": "stdout",
     "output_type": "stream",
     "text": [
      "0.7962329983711243\n"
     ]
    }
   ],
   "source": [
    "print(x[1,1].item()) # item can be used only when there is just one value"
   ]
  },
  {
   "cell_type": "code",
   "execution_count": 11,
   "id": "86e876b7",
   "metadata": {},
   "outputs": [
    {
     "name": "stdout",
     "output_type": "stream",
     "text": [
      "tensor([[0.0417, 0.4270, 0.5509, 0.1459],\n",
      "        [0.1190, 0.7409, 0.9646, 0.1834],\n",
      "        [0.0961, 0.5569, 0.1444, 0.2674],\n",
      "        [0.5877, 0.3602, 0.6278, 0.3612]])\n"
     ]
    }
   ],
   "source": [
    "# reshaping\n",
    "x = torch.rand(4, 4)\n",
    "print(x)"
   ]
  },
  {
   "cell_type": "code",
   "execution_count": 12,
   "id": "253ecceb",
   "metadata": {},
   "outputs": [
    {
     "name": "stdout",
     "output_type": "stream",
     "text": [
      "tensor([[0.0417, 0.4270, 0.5509, 0.1459, 0.1190, 0.7409, 0.9646, 0.1834],\n",
      "        [0.0961, 0.5569, 0.1444, 0.2674, 0.5877, 0.3602, 0.6278, 0.3612]])\n",
      "torch.Size([2, 8])\n"
     ]
    }
   ],
   "source": [
    "y = x.view(-1,8)\n",
    "print(y)\n",
    "print(y.size())"
   ]
  },
  {
   "cell_type": "code",
   "execution_count": 13,
   "id": "975965da",
   "metadata": {},
   "outputs": [
    {
     "name": "stdout",
     "output_type": "stream",
     "text": [
      "tensor([[0.0417, 0.4270],\n",
      "        [0.5509, 0.1459],\n",
      "        [0.1190, 0.7409],\n",
      "        [0.9646, 0.1834],\n",
      "        [0.0961, 0.5569],\n",
      "        [0.1444, 0.2674],\n",
      "        [0.5877, 0.3602],\n",
      "        [0.6278, 0.3612]])\n",
      "torch.Size([8, 2])\n"
     ]
    }
   ],
   "source": [
    "y = x.view(8,2)\n",
    "print(y)\n",
    "print(y.size())"
   ]
  },
  {
   "cell_type": "code",
   "execution_count": 14,
   "id": "36da4f0e",
   "metadata": {},
   "outputs": [],
   "source": [
    "# numpy to tensor or vice versa\n",
    "import numpy as np"
   ]
  },
  {
   "cell_type": "code",
   "execution_count": 15,
   "id": "94135337",
   "metadata": {},
   "outputs": [
    {
     "name": "stdout",
     "output_type": "stream",
     "text": [
      "tensor([1., 1., 1., 1., 1.])\n"
     ]
    }
   ],
   "source": [
    "a = torch.ones(5)\n",
    "print(a)"
   ]
  },
  {
   "cell_type": "code",
   "execution_count": 16,
   "id": "a457e4f7",
   "metadata": {},
   "outputs": [
    {
     "name": "stdout",
     "output_type": "stream",
     "text": [
      "[1. 1. 1. 1. 1.]\n",
      "<class 'numpy.ndarray'>\n"
     ]
    }
   ],
   "source": [
    "b = a.numpy()\n",
    "print(b)\n",
    "print(type(b))"
   ]
  },
  {
   "cell_type": "code",
   "execution_count": 18,
   "id": "5e50d22d",
   "metadata": {},
   "outputs": [
    {
     "name": "stdout",
     "output_type": "stream",
     "text": [
      "tensor([3., 3., 3., 3., 3.])\n",
      "[3. 3. 3. 3. 3.]\n"
     ]
    }
   ],
   "source": [
    "# b and a share the same memory location. Be careful !. This happens when your tensor is on GPU\n",
    "\n",
    "a.add_(1)\n",
    "print(a)\n",
    "print(b)"
   ]
  },
  {
   "cell_type": "code",
   "execution_count": 19,
   "id": "e1226045",
   "metadata": {},
   "outputs": [
    {
     "name": "stdout",
     "output_type": "stream",
     "text": [
      "tensor([1., 1., 1., 1., 1.], dtype=torch.float64)\n",
      "<class 'torch.Tensor'>\n"
     ]
    }
   ],
   "source": [
    "a = np.ones(5)\n",
    "b = torch.from_numpy(a)\n",
    "print(b)\n",
    "print(type(b))"
   ]
  },
  {
   "cell_type": "code",
   "execution_count": 20,
   "id": "93044985",
   "metadata": {},
   "outputs": [
    {
     "name": "stdout",
     "output_type": "stream",
     "text": [
      "[2. 2. 2. 2. 2.]\n",
      "tensor([2., 2., 2., 2., 2.], dtype=torch.float64)\n"
     ]
    }
   ],
   "source": [
    "# b and a share the same memory location. Be careful !. This happens when your tensor is on GPU\n",
    "a += 1\n",
    "print(a)\n",
    "print(b)"
   ]
  },
  {
   "cell_type": "code",
   "execution_count": 22,
   "id": "324d2246",
   "metadata": {},
   "outputs": [
    {
     "name": "stdout",
     "output_type": "stream",
     "text": [
      "cuda is not available\n"
     ]
    }
   ],
   "source": [
    "if torch.cuda.is_available():\n",
    "    device = torch.device(\"cuda\")\n",
    "    x = torch.ones(5, device= device) # this will create a tensor and put it on GPU.\n",
    "    y = torch.ones(5)\n",
    "    # now move it to GPU\n",
    "    y = y.to(device)\n",
    "    z = x + y # (will be performed in GPU) will be faster\n",
    "    # z.numpy() # this will throw error\n",
    "    z = z.to(\"cpu\")\n",
    "    # now we can do z.numpy() and it wont throw error.\n",
    "else:\n",
    "    print(\"cuda is not available\")\n",
    "    \n",
    "    "
   ]
  },
  {
   "cell_type": "code",
   "execution_count": 24,
   "id": "e3441c14",
   "metadata": {},
   "outputs": [
    {
     "name": "stdout",
     "output_type": "stream",
     "text": [
      "tensor([1., 1., 1., 1., 1.], requires_grad=True)\n"
     ]
    }
   ],
   "source": [
    "# This tells pytorch that later you need to calculate gradients for this tensor. \n",
    "x = torch.ones(5, requires_grad= True)\n",
    "print(x)\n"
   ]
  },
  {
   "cell_type": "code",
   "execution_count": null,
   "id": "26e7f4b3",
   "metadata": {},
   "outputs": [],
   "source": []
  },
  {
   "cell_type": "code",
   "execution_count": null,
   "id": "da06c19e",
   "metadata": {},
   "outputs": [],
   "source": []
  },
  {
   "cell_type": "code",
   "execution_count": null,
   "id": "f213f079",
   "metadata": {},
   "outputs": [],
   "source": []
  },
  {
   "cell_type": "code",
   "execution_count": null,
   "id": "d304575d",
   "metadata": {},
   "outputs": [],
   "source": []
  },
  {
   "cell_type": "code",
   "execution_count": null,
   "id": "c819b2a3",
   "metadata": {},
   "outputs": [],
   "source": []
  },
  {
   "cell_type": "code",
   "execution_count": null,
   "id": "5ce12109",
   "metadata": {},
   "outputs": [],
   "source": []
  }
 ],
 "metadata": {
  "kernelspec": {
   "display_name": "Python [conda env:pytorch] *",
   "language": "python",
   "name": "conda-env-pytorch-py"
  },
  "language_info": {
   "codemirror_mode": {
    "name": "ipython",
    "version": 3
   },
   "file_extension": ".py",
   "mimetype": "text/x-python",
   "name": "python",
   "nbconvert_exporter": "python",
   "pygments_lexer": "ipython3",
   "version": "3.7.13"
  }
 },
 "nbformat": 4,
 "nbformat_minor": 5
}
