{
 "cells": [
  {
   "cell_type": "code",
   "execution_count": 1,
   "id": "12865817",
   "metadata": {},
   "outputs": [
    {
     "name": "stdout",
     "output_type": "stream",
     "text": [
      "tensor([1.1210e-44])\n"
     ]
    }
   ],
   "source": [
    "import torch\n",
    "\n",
    "x = torch.empty(1) # array of size 1. Essentially a 1D vector\n",
    "print(x)\n",
    "\n"
   ]
  },
  {
   "cell_type": "code",
   "execution_count": 2,
   "id": "1c835d0a",
   "metadata": {},
   "outputs": [
    {
     "name": "stdout",
     "output_type": "stream",
     "text": [
      "tensor([0., -0., 0.])\n"
     ]
    }
   ],
   "source": [
    "x = torch.empty(3) # 1D vector with 3 elements\n",
    "print(x)\n",
    "\n"
   ]
  },
  {
   "cell_type": "code",
   "execution_count": 3,
   "id": "54b98638",
   "metadata": {},
   "outputs": [
    {
     "name": "stdout",
     "output_type": "stream",
     "text": [
      "tensor([[7.0065e-44, 8.1275e-44, 7.0065e-44],\n",
      "        [7.2868e-44, 8.1275e-44, 7.2868e-44]])\n"
     ]
    }
   ],
   "source": [
    "x = torch.empty(2, 3) # 2D vector with 2 rows and 3 columns\n",
    "print(x)\n",
    "\n"
   ]
  },
  {
   "cell_type": "code",
   "execution_count": 4,
   "id": "30584157",
   "metadata": {},
   "outputs": [
    {
     "name": "stdout",
     "output_type": "stream",
     "text": [
      "tensor([[0.5977, 0.4992],\n",
      "        [0.6851, 0.3114]])\n"
     ]
    }
   ],
   "source": [
    "# random values\n",
    "# rand Returns a tensor filled with random numbers from a uniform \n",
    "# distribution on the interval [0, 1)\n",
    "x = torch.rand(2, 2)\n",
    "print(x)\n",
    "\n"
   ]
  },
  {
   "cell_type": "code",
   "execution_count": 5,
   "id": "c55e223b",
   "metadata": {},
   "outputs": [
    {
     "name": "stdout",
     "output_type": "stream",
     "text": [
      "tensor([[0., 0.],\n",
      "        [0., 0.]])\n"
     ]
    }
   ],
   "source": [
    "# So, in essence torch.FloatTensor() and torch.empty() does the same \n",
    "# job of returning a tensor\n",
    "# filled with garbage values of dtype torch.float32\n",
    "\n",
    "# just like in numpy\n",
    "x = torch.zeros(2,2)\n",
    "print(x)\n",
    "\n"
   ]
  },
  {
   "cell_type": "code",
   "execution_count": 6,
   "id": "893e3833",
   "metadata": {},
   "outputs": [
    {
     "name": "stdout",
     "output_type": "stream",
     "text": [
      "tensor([[1., 1.],\n",
      "        [1., 1.]])\n"
     ]
    }
   ],
   "source": [
    "x = torch.ones(2,2)\n",
    "print(x)\n",
    "\n"
   ]
  },
  {
   "cell_type": "code",
   "execution_count": 7,
   "id": "c10620ed",
   "metadata": {},
   "outputs": [
    {
     "name": "stdout",
     "output_type": "stream",
     "text": [
      "tensor([[1., 1.],\n",
      "        [1., 1.]], dtype=torch.float16)\n"
     ]
    }
   ],
   "source": [
    "# give data type\n",
    "x = torch.ones(2,2, dtype=torch.float16)\n",
    "print(x)\n",
    "\n"
   ]
  },
  {
   "cell_type": "code",
   "execution_count": 8,
   "id": "46b5125c",
   "metadata": {},
   "outputs": [
    {
     "name": "stdout",
     "output_type": "stream",
     "text": [
      "creating a tensor using tensor= tensor([2.5000, 0.1000])\n"
     ]
    }
   ],
   "source": [
    "# creating a tensor\n",
    "x = torch.tensor([2.5, 0.1])\n",
    "print(\"creating a tensor using tensor=\",x)\n",
    "\n"
   ]
  },
  {
   "cell_type": "code",
   "execution_count": 9,
   "id": "40bac03d",
   "metadata": {},
   "outputs": [
    {
     "name": "stdout",
     "output_type": "stream",
     "text": [
      "creating a tensor using Tensor= tensor([2.5000, 0.1000])\n"
     ]
    }
   ],
   "source": [
    "# creating a tensor\n",
    "x = torch.Tensor([2.5, 0.1])\n",
    "print(\"creating a tensor using Tensor=\",x)\n",
    "\n"
   ]
  },
  {
   "cell_type": "code",
   "execution_count": 10,
   "id": "7f7427f3",
   "metadata": {},
   "outputs": [
    {
     "name": "stdout",
     "output_type": "stream",
     "text": [
      "creating a empty tensor using tensor= tensor([])\n"
     ]
    }
   ],
   "source": [
    "# creating a empty tensor\n",
    "x = torch.tensor(())\n",
    "print(\"creating a empty tensor using tensor=\",x)\n",
    "\n"
   ]
  },
  {
   "cell_type": "code",
   "execution_count": 11,
   "id": "37325a52",
   "metadata": {},
   "outputs": [
    {
     "name": "stdout",
     "output_type": "stream",
     "text": [
      "creating a empty tensor using Tensor= tensor([])\n"
     ]
    }
   ],
   "source": [
    "# creating a empty tensor\n",
    "x = torch.Tensor()\n",
    "print(\"creating a empty tensor using Tensor=\",x)\n",
    "\n"
   ]
  },
  {
   "cell_type": "code",
   "execution_count": 12,
   "id": "4fb06e5a",
   "metadata": {},
   "outputs": [
    {
     "name": "stdout",
     "output_type": "stream",
     "text": [
      "creating a tensor using Tensor= tensor([[0.0000e+00, -0.0000e+00, 0.0000e+00],\n",
      "        [-0.0000e+00, 1.5414e-44, 0.0000e+00]])\n"
     ]
    }
   ],
   "source": [
    "x = torch.Tensor(2,3)\n",
    "print(\"creating a tensor using Tensor=\",x)\n",
    "\n"
   ]
  },
  {
   "cell_type": "code",
   "execution_count": 13,
   "id": "aed60997",
   "metadata": {},
   "outputs": [
    {
     "name": "stdout",
     "output_type": "stream",
     "text": [
      "creating a tensor using empty= tensor([[4.2914e-05, 1.0027e-11, 1.1210e-44],\n",
      "        [0.0000e+00, 5.2387e-08, 4.0371e-08]])\n"
     ]
    }
   ],
   "source": [
    "x = torch.empty(2,3)\n",
    "print(\"creating a tensor using empty=\",x)\n",
    "\n",
    "\n"
   ]
  },
  {
   "cell_type": "code",
   "execution_count": 14,
   "id": "8839328e",
   "metadata": {},
   "outputs": [
    {
     "name": "stdout",
     "output_type": "stream",
     "text": [
      "tensor([[0.8262, 0.9290],\n",
      "        [0.9529, 0.8338]])\n",
      "tensor([[0.4430, 0.5253],\n",
      "        [0.0466, 0.3873]])\n"
     ]
    }
   ],
   "source": [
    "# https://stackoverflow.com/questions/51911749/what-is-the-difference-between-torch-tensor-and-torch-tensor\n",
    "# https://stackoverflow.com/questions/51129043/whats-the-difference-between-torch-tensor-vs-torch-empty-in-pytorch\n",
    "\n",
    "# torch.Tensor() is just an alias to torch.FloatTensor() which is the\n",
    "# default type of tensor, when no dtype is specified during tensor construction.\n",
    "\n",
    "# From the torch for numpy users notes, it seems that torch.Tensor() is a drop-in\n",
    "# replacement of numpy.empty()\n",
    "\n",
    "# So, in essence torch.FloatTensor() and torch.empty() does the same job of returning a\n",
    "# tensor filled with garbage values of dtype torch.float32\n",
    "\n",
    "# torch.empty() returns a tensor filled with uninitialized data. With arguments you can\n",
    "# specify the shape of the tensor, the output tensor, the data type...\n",
    "\n",
    "# This means you can create a tensor of floats, int... If no data type is specified then\n",
    "# the chosen one is your default torch.Tensor type (which is torch.FloatTensor by default and\n",
    "# you can change it using torch.set_default_tensor_type())\n",
    "\n",
    "# torch.Tensor() is simply a special case of torch.empty() where the data type is torch.FloatTensor.\n",
    "\n",
    "\n",
    "x = torch.rand(2, 2)\n",
    "y = torch.rand(2, 2)\n",
    "print(x)\n",
    "print(y)\n",
    "\n"
   ]
  },
  {
   "cell_type": "code",
   "execution_count": 15,
   "id": "cd487229",
   "metadata": {},
   "outputs": [
    {
     "name": "stdout",
     "output_type": "stream",
     "text": [
      "tensor([[0.7452, 0.0748],\n",
      "        [0.1752, 0.9012]])\n",
      "tensor([[0.2468, 0.3845],\n",
      "        [0.3233, 0.4436]])\n",
      "tensor([[0.9921, 0.4592],\n",
      "        [0.4985, 1.3448]])\n"
     ]
    }
   ],
   "source": [
    "x = torch.rand(2, 2)\n",
    "y = torch.rand(2, 2)\n",
    "print(x)\n",
    "print(y)\n",
    "y.add_(x) # in place\n",
    "print(y)\n"
   ]
  },
  {
   "cell_type": "code",
   "execution_count": 16,
   "id": "46a865f9",
   "metadata": {},
   "outputs": [
    {
     "name": "stdout",
     "output_type": "stream",
     "text": [
      "tensor([[6, 6],\n",
      "        [6, 6]])\n"
     ]
    }
   ],
   "source": [
    "# element wise addition\n",
    "x = torch.tensor([\n",
    "    [2, 2],\n",
    "    [2, 2]\n",
    "])\n",
    "\n",
    "y = torch.tensor([\n",
    "    [4, 4],\n",
    "    [4, 4]\n",
    "])\n",
    "z = x + y\n",
    "z = torch.add(x, y)\n",
    "print(z)\n",
    "\n"
   ]
  },
  {
   "cell_type": "code",
   "execution_count": 17,
   "id": "1527d903",
   "metadata": {},
   "outputs": [
    {
     "name": "stdout",
     "output_type": "stream",
     "text": [
      "tensor([[-2, -2],\n",
      "        [-2, -2]])\n"
     ]
    }
   ],
   "source": [
    "# element wise subtraction\n",
    "z = x - y\n",
    "z = torch.sub(x, y)\n",
    "print(z)\n",
    "\n"
   ]
  },
  {
   "cell_type": "code",
   "execution_count": 18,
   "id": "5432c903",
   "metadata": {},
   "outputs": [
    {
     "name": "stdout",
     "output_type": "stream",
     "text": [
      "tensor([[8, 8],\n",
      "        [8, 8]])\n"
     ]
    }
   ],
   "source": [
    "# element wise multiplication\n",
    "z = x * y\n",
    "z = torch.mul(x, y)\n",
    "print(z)\n",
    "\n"
   ]
  },
  {
   "cell_type": "code",
   "execution_count": 19,
   "id": "8f1bd6f0",
   "metadata": {},
   "outputs": [
    {
     "name": "stdout",
     "output_type": "stream",
     "text": [
      "tensor([[0.5000, 0.5000],\n",
      "        [0.5000, 0.5000]])\n"
     ]
    }
   ],
   "source": [
    "# element wise division\n",
    "z = x / y\n",
    "z = torch.div(x, y)\n",
    "print(z)"
   ]
  },
  {
   "cell_type": "code",
   "execution_count": null,
   "id": "5f5c11ed",
   "metadata": {},
   "outputs": [],
   "source": []
  },
  {
   "cell_type": "code",
   "execution_count": 20,
   "id": "fb991cc4",
   "metadata": {},
   "outputs": [
    {
     "name": "stdout",
     "output_type": "stream",
     "text": [
      "tensor([[0.1951, 0.5898, 0.1146],\n",
      "        [0.4080, 0.9056, 0.8523],\n",
      "        [0.0733, 0.7454, 0.4640],\n",
      "        [0.9486, 0.2094, 0.9497],\n",
      "        [0.7639, 0.2181, 0.2784]])\n"
     ]
    }
   ],
   "source": [
    "# slicing\n",
    "x = torch.rand(5, 3)\n",
    "print(x)"
   ]
  },
  {
   "cell_type": "code",
   "execution_count": 21,
   "id": "a246f770",
   "metadata": {},
   "outputs": [
    {
     "name": "stdout",
     "output_type": "stream",
     "text": [
      "tensor([0.1951, 0.5898, 0.1146])\n",
      "tensor([0.4080, 0.9056, 0.8523])\n",
      "tensor([0.0733, 0.7454, 0.4640])\n",
      "tensor([0.9486, 0.2094, 0.9497])\n",
      "tensor([0.7639, 0.2181, 0.2784])\n"
     ]
    }
   ],
   "source": [
    "# iterating\n",
    "for i, arr in enumerate(x):\n",
    "    print(arr)"
   ]
  },
  {
   "cell_type": "code",
   "execution_count": 22,
   "id": "f4e564b3",
   "metadata": {},
   "outputs": [
    {
     "name": "stdout",
     "output_type": "stream",
     "text": [
      "[0.19507903 0.58975446 0.1146391 ]\n",
      "[0.4080456 0.9055868 0.8523062]\n",
      "[0.07329142 0.745441   0.46401244]\n",
      "[0.948641   0.20937026 0.94968826]\n",
      "[0.76385707 0.21808952 0.2784117 ]\n"
     ]
    }
   ],
   "source": [
    "for i, arr in enumerate(x.numpy()):\n",
    "    print(arr)"
   ]
  },
  {
   "cell_type": "code",
   "execution_count": 23,
   "id": "ad6c6491",
   "metadata": {},
   "outputs": [
    {
     "name": "stdout",
     "output_type": "stream",
     "text": [
      "tensor([0.1951, 0.4080, 0.0733, 0.9486, 0.7639])\n"
     ]
    }
   ],
   "source": [
    "print(x[:,0])"
   ]
  },
  {
   "cell_type": "code",
   "execution_count": 24,
   "id": "c43071c7",
   "metadata": {},
   "outputs": [
    {
     "name": "stdout",
     "output_type": "stream",
     "text": [
      "tensor([0.4080, 0.9056, 0.8523])\n"
     ]
    }
   ],
   "source": [
    "print(x[1,:])"
   ]
  },
  {
   "cell_type": "code",
   "execution_count": 25,
   "id": "429e3327",
   "metadata": {},
   "outputs": [
    {
     "name": "stdout",
     "output_type": "stream",
     "text": [
      "tensor(0.9056)\n"
     ]
    }
   ],
   "source": [
    "print(x[1,1])"
   ]
  },
  {
   "cell_type": "code",
   "execution_count": 26,
   "id": "613d9768",
   "metadata": {},
   "outputs": [
    {
     "name": "stdout",
     "output_type": "stream",
     "text": [
      "0.9055867791175842\n"
     ]
    }
   ],
   "source": [
    "print(x[1,1].item()) # item can be used only when there is just one value"
   ]
  },
  {
   "cell_type": "code",
   "execution_count": 27,
   "id": "86e876b7",
   "metadata": {},
   "outputs": [
    {
     "name": "stdout",
     "output_type": "stream",
     "text": [
      "tensor([[0.0112, 0.8466, 0.1396, 0.2296],\n",
      "        [0.8844, 0.7424, 0.5566, 0.1188],\n",
      "        [0.1590, 0.0885, 0.3760, 0.8899],\n",
      "        [0.1746, 0.0650, 0.4654, 0.4186]])\n"
     ]
    }
   ],
   "source": [
    "# reshaping\n",
    "x = torch.rand(4, 4)\n",
    "print(x)"
   ]
  },
  {
   "cell_type": "code",
   "execution_count": 28,
   "id": "253ecceb",
   "metadata": {},
   "outputs": [
    {
     "name": "stdout",
     "output_type": "stream",
     "text": [
      "tensor([[0.0112, 0.8466, 0.1396, 0.2296, 0.8844, 0.7424, 0.5566, 0.1188],\n",
      "        [0.1590, 0.0885, 0.3760, 0.8899, 0.1746, 0.0650, 0.4654, 0.4186]])\n",
      "torch.Size([2, 8])\n"
     ]
    }
   ],
   "source": [
    "y = x.view(-1,8)\n",
    "print(y)\n",
    "print(y.size())"
   ]
  },
  {
   "cell_type": "code",
   "execution_count": 29,
   "id": "975965da",
   "metadata": {},
   "outputs": [
    {
     "name": "stdout",
     "output_type": "stream",
     "text": [
      "tensor([[0.0112, 0.8466],\n",
      "        [0.1396, 0.2296],\n",
      "        [0.8844, 0.7424],\n",
      "        [0.5566, 0.1188],\n",
      "        [0.1590, 0.0885],\n",
      "        [0.3760, 0.8899],\n",
      "        [0.1746, 0.0650],\n",
      "        [0.4654, 0.4186]])\n",
      "torch.Size([8, 2])\n"
     ]
    }
   ],
   "source": [
    "y = x.view(8,2)\n",
    "print(y)\n",
    "print(y.size())"
   ]
  },
  {
   "cell_type": "code",
   "execution_count": 30,
   "id": "36da4f0e",
   "metadata": {},
   "outputs": [],
   "source": [
    "# numpy to tensor or vice versa\n",
    "import numpy as np"
   ]
  },
  {
   "cell_type": "code",
   "execution_count": 31,
   "id": "94135337",
   "metadata": {},
   "outputs": [
    {
     "name": "stdout",
     "output_type": "stream",
     "text": [
      "tensor([1., 1., 1., 1., 1.])\n"
     ]
    }
   ],
   "source": [
    "a = torch.ones(5)\n",
    "print(a)"
   ]
  },
  {
   "cell_type": "code",
   "execution_count": 32,
   "id": "a457e4f7",
   "metadata": {},
   "outputs": [
    {
     "name": "stdout",
     "output_type": "stream",
     "text": [
      "[1. 1. 1. 1. 1.]\n",
      "<class 'numpy.ndarray'>\n"
     ]
    }
   ],
   "source": [
    "b = a.numpy()\n",
    "print(b)\n",
    "print(type(b))"
   ]
  },
  {
   "cell_type": "code",
   "execution_count": 33,
   "id": "5e50d22d",
   "metadata": {},
   "outputs": [
    {
     "name": "stdout",
     "output_type": "stream",
     "text": [
      "tensor([2., 2., 2., 2., 2.])\n",
      "[2. 2. 2. 2. 2.]\n"
     ]
    }
   ],
   "source": [
    "# b and a share the same memory location. Be careful !. This happens when your tensor is on GPU\n",
    "\n",
    "a.add_(1)\n",
    "print(a)\n",
    "print(b)"
   ]
  },
  {
   "cell_type": "code",
   "execution_count": 34,
   "id": "e1226045",
   "metadata": {},
   "outputs": [
    {
     "name": "stdout",
     "output_type": "stream",
     "text": [
      "tensor([1., 1., 1., 1., 1.], dtype=torch.float64)\n",
      "<class 'torch.Tensor'>\n"
     ]
    }
   ],
   "source": [
    "a = np.ones(5)\n",
    "b = torch.from_numpy(a)\n",
    "print(b)\n",
    "print(type(b))"
   ]
  },
  {
   "cell_type": "code",
   "execution_count": 35,
   "id": "93044985",
   "metadata": {},
   "outputs": [
    {
     "name": "stdout",
     "output_type": "stream",
     "text": [
      "[2. 2. 2. 2. 2.]\n",
      "tensor([2., 2., 2., 2., 2.], dtype=torch.float64)\n"
     ]
    }
   ],
   "source": [
    "# b and a share the same memory location. Be careful !. This happens when your tensor is on GPU\n",
    "a += 1\n",
    "print(a)\n",
    "print(b)"
   ]
  },
  {
   "cell_type": "code",
   "execution_count": 36,
   "id": "324d2246",
   "metadata": {},
   "outputs": [
    {
     "name": "stdout",
     "output_type": "stream",
     "text": [
      "cuda is not available\n"
     ]
    }
   ],
   "source": [
    "if torch.cuda.is_available():\n",
    "    device = torch.device(\"cuda\")\n",
    "    x = torch.ones(5, device= device) # this will create a tensor and put it on GPU.\n",
    "    y = torch.ones(5)\n",
    "    # now move it to GPU\n",
    "    y = y.to(device)\n",
    "    z = x + y # (will be performed in GPU) will be faster\n",
    "    # z.numpy() # this will throw error\n",
    "    z = z.to(\"cpu\")\n",
    "    # now we can do z.numpy() and it wont throw error.\n",
    "else:\n",
    "    print(\"cuda is not available\")\n",
    "    \n",
    "    "
   ]
  },
  {
   "cell_type": "code",
   "execution_count": 38,
   "id": "e3441c14",
   "metadata": {},
   "outputs": [
    {
     "name": "stdout",
     "output_type": "stream",
     "text": [
      "tensor([1., 1., 1., 1., 1.], requires_grad=True)\n"
     ]
    }
   ],
   "source": [
    "# This tells pytorch that later you need to calculate gradients for \n",
    "# this tensor. \n",
    "x = torch.ones(5, requires_grad= True)\n",
    "print(x)\n"
   ]
  },
  {
   "cell_type": "code",
   "execution_count": null,
   "id": "26e7f4b3",
   "metadata": {},
   "outputs": [],
   "source": []
  },
  {
   "cell_type": "code",
   "execution_count": null,
   "id": "da06c19e",
   "metadata": {},
   "outputs": [],
   "source": []
  },
  {
   "cell_type": "code",
   "execution_count": null,
   "id": "f213f079",
   "metadata": {},
   "outputs": [],
   "source": []
  },
  {
   "cell_type": "code",
   "execution_count": null,
   "id": "d304575d",
   "metadata": {},
   "outputs": [],
   "source": []
  },
  {
   "cell_type": "code",
   "execution_count": null,
   "id": "c819b2a3",
   "metadata": {},
   "outputs": [],
   "source": []
  },
  {
   "cell_type": "code",
   "execution_count": null,
   "id": "5ce12109",
   "metadata": {},
   "outputs": [],
   "source": []
  }
 ],
 "metadata": {
  "kernelspec": {
   "display_name": "Python [conda env:pytorch] *",
   "language": "python",
   "name": "conda-env-pytorch-py"
  },
  "language_info": {
   "codemirror_mode": {
    "name": "ipython",
    "version": 3
   },
   "file_extension": ".py",
   "mimetype": "text/x-python",
   "name": "python",
   "nbconvert_exporter": "python",
   "pygments_lexer": "ipython3",
   "version": "3.7.13"
  }
 },
 "nbformat": 4,
 "nbformat_minor": 5
}
